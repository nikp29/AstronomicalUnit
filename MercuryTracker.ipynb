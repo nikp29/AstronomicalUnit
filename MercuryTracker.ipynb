{
  "nbformat": 4,
  "nbformat_minor": 0,
  "metadata": {
    "kernelspec": {
      "display_name": "Python 3",
      "language": "python",
      "name": "python3"
    },
    "language_info": {
      "codemirror_mode": {
        "name": "ipython",
        "version": 3
      },
      "file_extension": ".py",
      "mimetype": "text/x-python",
      "name": "python",
      "nbconvert_exporter": "python",
      "pygments_lexer": "ipython3",
      "version": "3.7.5"
    },
    "colab": {
      "name": "MercuryTracker.ipynb",
      "provenance": [],
      "collapsed_sections": []
    },
    "widgets": {
      "application/vnd.jupyter.widget-state+json": {
        "ea3e7382182740aba39375778cb24ec4": {
          "model_module": "@jupyter-widgets/controls",
          "model_name": "HBoxModel",
          "state": {
            "_view_name": "HBoxView",
            "_dom_classes": [],
            "_model_name": "HBoxModel",
            "_view_module": "@jupyter-widgets/controls",
            "_model_module_version": "1.5.0",
            "_view_count": null,
            "_view_module_version": "1.5.0",
            "box_style": "",
            "layout": "IPY_MODEL_6fa8f183348f43a4b965bd8074760a42",
            "_model_module": "@jupyter-widgets/controls",
            "children": [
              "IPY_MODEL_916af92aec0b4abaabc95ee7f1fdc675",
              "IPY_MODEL_0a3779510e124ee7a316330bd86d233e"
            ]
          }
        },
        "6fa8f183348f43a4b965bd8074760a42": {
          "model_module": "@jupyter-widgets/base",
          "model_name": "LayoutModel",
          "state": {
            "_view_name": "LayoutView",
            "grid_template_rows": null,
            "right": null,
            "justify_content": null,
            "_view_module": "@jupyter-widgets/base",
            "overflow": null,
            "_model_module_version": "1.2.0",
            "_view_count": null,
            "flex_flow": null,
            "width": null,
            "min_width": null,
            "border": null,
            "align_items": null,
            "bottom": null,
            "_model_module": "@jupyter-widgets/base",
            "top": null,
            "grid_column": null,
            "overflow_y": null,
            "overflow_x": null,
            "grid_auto_flow": null,
            "grid_area": null,
            "grid_template_columns": null,
            "flex": null,
            "_model_name": "LayoutModel",
            "justify_items": null,
            "grid_row": null,
            "max_height": null,
            "align_content": null,
            "visibility": null,
            "align_self": null,
            "height": null,
            "min_height": null,
            "padding": null,
            "grid_auto_rows": null,
            "grid_gap": null,
            "max_width": null,
            "order": null,
            "_view_module_version": "1.2.0",
            "grid_template_areas": null,
            "object_position": null,
            "object_fit": null,
            "grid_auto_columns": null,
            "margin": null,
            "display": null,
            "left": null
          }
        },
        "916af92aec0b4abaabc95ee7f1fdc675": {
          "model_module": "@jupyter-widgets/controls",
          "model_name": "IntProgressModel",
          "state": {
            "_view_name": "ProgressView",
            "style": "IPY_MODEL_afe0dbffc2f440be8eb3365a269b1bba",
            "_dom_classes": [],
            "description": "100%",
            "_model_name": "IntProgressModel",
            "bar_style": "success",
            "max": 8785,
            "_view_module": "@jupyter-widgets/controls",
            "_model_module_version": "1.5.0",
            "value": 8785,
            "_view_count": null,
            "_view_module_version": "1.5.0",
            "orientation": "horizontal",
            "min": 0,
            "description_tooltip": null,
            "_model_module": "@jupyter-widgets/controls",
            "layout": "IPY_MODEL_dc3a6680c92e4394ab7c21e9990d089b"
          }
        },
        "0a3779510e124ee7a316330bd86d233e": {
          "model_module": "@jupyter-widgets/controls",
          "model_name": "HTMLModel",
          "state": {
            "_view_name": "HTMLView",
            "style": "IPY_MODEL_5ec36ade4ec04ab08ebbe7e6d32dc096",
            "_dom_classes": [],
            "description": "",
            "_model_name": "HTMLModel",
            "placeholder": "​",
            "_view_module": "@jupyter-widgets/controls",
            "_model_module_version": "1.5.0",
            "value": " 8785/8785 [25:54&lt;00:00,  5.65it/s]",
            "_view_count": null,
            "_view_module_version": "1.5.0",
            "description_tooltip": null,
            "_model_module": "@jupyter-widgets/controls",
            "layout": "IPY_MODEL_61cb3f276fc24c4b8d7487e7a85b555a"
          }
        },
        "afe0dbffc2f440be8eb3365a269b1bba": {
          "model_module": "@jupyter-widgets/controls",
          "model_name": "ProgressStyleModel",
          "state": {
            "_view_name": "StyleView",
            "_model_name": "ProgressStyleModel",
            "description_width": "initial",
            "_view_module": "@jupyter-widgets/base",
            "_model_module_version": "1.5.0",
            "_view_count": null,
            "_view_module_version": "1.2.0",
            "bar_color": null,
            "_model_module": "@jupyter-widgets/controls"
          }
        },
        "dc3a6680c92e4394ab7c21e9990d089b": {
          "model_module": "@jupyter-widgets/base",
          "model_name": "LayoutModel",
          "state": {
            "_view_name": "LayoutView",
            "grid_template_rows": null,
            "right": null,
            "justify_content": null,
            "_view_module": "@jupyter-widgets/base",
            "overflow": null,
            "_model_module_version": "1.2.0",
            "_view_count": null,
            "flex_flow": null,
            "width": null,
            "min_width": null,
            "border": null,
            "align_items": null,
            "bottom": null,
            "_model_module": "@jupyter-widgets/base",
            "top": null,
            "grid_column": null,
            "overflow_y": null,
            "overflow_x": null,
            "grid_auto_flow": null,
            "grid_area": null,
            "grid_template_columns": null,
            "flex": null,
            "_model_name": "LayoutModel",
            "justify_items": null,
            "grid_row": null,
            "max_height": null,
            "align_content": null,
            "visibility": null,
            "align_self": null,
            "height": null,
            "min_height": null,
            "padding": null,
            "grid_auto_rows": null,
            "grid_gap": null,
            "max_width": null,
            "order": null,
            "_view_module_version": "1.2.0",
            "grid_template_areas": null,
            "object_position": null,
            "object_fit": null,
            "grid_auto_columns": null,
            "margin": null,
            "display": null,
            "left": null
          }
        },
        "5ec36ade4ec04ab08ebbe7e6d32dc096": {
          "model_module": "@jupyter-widgets/controls",
          "model_name": "DescriptionStyleModel",
          "state": {
            "_view_name": "StyleView",
            "_model_name": "DescriptionStyleModel",
            "description_width": "",
            "_view_module": "@jupyter-widgets/base",
            "_model_module_version": "1.5.0",
            "_view_count": null,
            "_view_module_version": "1.2.0",
            "_model_module": "@jupyter-widgets/controls"
          }
        },
        "61cb3f276fc24c4b8d7487e7a85b555a": {
          "model_module": "@jupyter-widgets/base",
          "model_name": "LayoutModel",
          "state": {
            "_view_name": "LayoutView",
            "grid_template_rows": null,
            "right": null,
            "justify_content": null,
            "_view_module": "@jupyter-widgets/base",
            "overflow": null,
            "_model_module_version": "1.2.0",
            "_view_count": null,
            "flex_flow": null,
            "width": null,
            "min_width": null,
            "border": null,
            "align_items": null,
            "bottom": null,
            "_model_module": "@jupyter-widgets/base",
            "top": null,
            "grid_column": null,
            "overflow_y": null,
            "overflow_x": null,
            "grid_auto_flow": null,
            "grid_area": null,
            "grid_template_columns": null,
            "flex": null,
            "_model_name": "LayoutModel",
            "justify_items": null,
            "grid_row": null,
            "max_height": null,
            "align_content": null,
            "visibility": null,
            "align_self": null,
            "height": null,
            "min_height": null,
            "padding": null,
            "grid_auto_rows": null,
            "grid_gap": null,
            "max_width": null,
            "order": null,
            "_view_module_version": "1.2.0",
            "grid_template_areas": null,
            "object_position": null,
            "object_fit": null,
            "grid_auto_columns": null,
            "margin": null,
            "display": null,
            "left": null
          }
        }
      }
    }
  },
  "cells": [
    {
      "cell_type": "markdown",
      "metadata": {
        "id": "FhYuIfXzbwoz",
        "colab_type": "text"
      },
      "source": [
        "# Mercury Transit Data Collection Notebook\n",
        "\n",
        "To determine the Astronomical Unit from photographs of the transit of Mercury, we analyzed ephemeris data to determine mercury's orbital period, and the distance between the two observatories project in a direction perpendicular to the vector from the Earth to the Sun, in order to do paralax analysis."
      ]
    },
    {
      "cell_type": "markdown",
      "metadata": {
        "id": "KVFSaj0mb7s0",
        "colab_type": "text"
      },
      "source": [
        "## Setup"
      ]
    },
    {
      "cell_type": "code",
      "metadata": {
        "id": "qKf7Mjupbwo1",
        "colab_type": "code",
        "colab": {
          "base_uri": "https://localhost:8080/",
          "height": 255
        },
        "outputId": "a05ffb8b-91e2-457a-e704-ce3a24c2a76b"
      },
      "source": [
        "!pip3 install ephem\n",
        "!pip3 install pytz\n",
        "!pip3 install astropy\n",
        "!pip3 install pandas\n",
        "!pip3 install numpy\n",
        "!pip3 install nvector\n",
        "!pip3 install sympy\n",
        "!pip3 install tqdm"
      ],
      "execution_count": 6,
      "outputs": [
        {
          "output_type": "stream",
          "text": [
            "Requirement already satisfied: ephem in /usr/local/lib/python3.6/dist-packages (3.7.7.1)\n",
            "Requirement already satisfied: pytz in /usr/local/lib/python3.6/dist-packages (2018.9)\n",
            "Requirement already satisfied: astropy in /usr/local/lib/python3.6/dist-packages (4.0)\n",
            "Requirement already satisfied: numpy>=1.16 in /usr/local/lib/python3.6/dist-packages (from astropy) (1.18.2)\n",
            "Requirement already satisfied: pandas in /usr/local/lib/python3.6/dist-packages (0.25.3)\n",
            "Requirement already satisfied: pytz>=2017.2 in /usr/local/lib/python3.6/dist-packages (from pandas) (2018.9)\n",
            "Requirement already satisfied: numpy>=1.13.3 in /usr/local/lib/python3.6/dist-packages (from pandas) (1.18.2)\n",
            "Requirement already satisfied: python-dateutil>=2.6.1 in /usr/local/lib/python3.6/dist-packages (from pandas) (2.8.1)\n",
            "Requirement already satisfied: six>=1.5 in /usr/local/lib/python3.6/dist-packages (from python-dateutil>=2.6.1->pandas) (1.12.0)\n",
            "Requirement already satisfied: numpy in /usr/local/lib/python3.6/dist-packages (1.18.2)\n",
            "Requirement already satisfied: nvector in /usr/local/lib/python3.6/dist-packages (0.7.4)\n",
            "Requirement already satisfied: sympy in /usr/local/lib/python3.6/dist-packages (1.1.1)\n",
            "Requirement already satisfied: mpmath>=0.19 in /usr/local/lib/python3.6/dist-packages (from sympy) (1.1.0)\n",
            "Requirement already satisfied: tqdm in /usr/local/lib/python3.6/dist-packages (4.38.0)\n"
          ],
          "name": "stdout"
        }
      ]
    },
    {
      "cell_type": "code",
      "metadata": {
        "id": "JXpkcs8lbwo6",
        "colab_type": "code",
        "colab": {}
      },
      "source": [
        "import numpy as np\n",
        "from datetime import datetime\n",
        "import pandas as pd\n",
        "import ephem\n",
        "from sympy import Plane, Point3D\n",
        "import nvector as nv\n",
        "from pytz import timezone\n",
        "from astropy import coordinates as coord\n",
        "from astropy.coordinates import solar_system_ephemeris, EarthLocation, get_body_barycentric, get_body, get_moon, SkyCoord, BarycentricMeanEcliptic\n",
        "from astropy import units as u\n",
        "from astropy.time import Time\n",
        "from astropy.table import Table\n",
        "from tqdm.notebook import tqdm as tqdm_notebook"
      ],
      "execution_count": 0,
      "outputs": []
    },
    {
      "cell_type": "markdown",
      "metadata": {
        "id": "AkmO1soDbwo9",
        "colab_type": "text"
      },
      "source": [
        "## Mercury Orbital Period"
      ]
    },
    {
      "cell_type": "code",
      "metadata": {
        "id": "I_nF1gOjbwo9",
        "colab_type": "code",
        "colab": {}
      },
      "source": [
        "def dot_to_angle(row):\n",
        "    return np.arcsin(row)*360/(2*np.pi)\n",
        "\n",
        "def moon_alt(date):\n",
        "    observer = ephem.city('San Francisco')\n",
        "    observer.date = ephem.date(date)\n",
        "    return float(ephem.Mercury(observer).alt)"
      ],
      "execution_count": 0,
      "outputs": []
    },
    {
      "cell_type": "code",
      "metadata": {
        "id": "gP_XF3uFbwpA",
        "colab_type": "code",
        "colab": {
          "base_uri": "https://localhost:8080/",
          "height": 468,
          "referenced_widgets": [
            "ea3e7382182740aba39375778cb24ec4",
            "6fa8f183348f43a4b965bd8074760a42",
            "916af92aec0b4abaabc95ee7f1fdc675",
            "0a3779510e124ee7a316330bd86d233e",
            "afe0dbffc2f440be8eb3365a269b1bba",
            "dc3a6680c92e4394ab7c21e9990d089b",
            "5ec36ade4ec04ab08ebbe7e6d32dc096",
            "61cb3f276fc24c4b8d7487e7a85b555a"
          ]
        },
        "outputId": "a88fa907-1dfa-4e1e-c657-fdf3e3d50c8c"
      },
      "source": [
        "# Find Sun and Mercury positions for all of 2018, in order to graph Mercury's Ecliptic Latitude as a function of time\n",
        "dates = pd.date_range(start='1/1/2018', end='1/2/2019', freq='H',tz='UTC')\n",
        "\n",
        "coords_ecl = []\n",
        "\n",
        "loc = EarthLocation.of_site('greenwich') \n",
        "\n",
        "for date in tqdm_notebook(dates):\n",
        "\n",
        "    with solar_system_ephemeris.set('builtin'):\n",
        "        m = get_body('mercury', Time(date), loc)\n",
        "        s = get_body('sun', Time(date), loc)\n",
        "        # convert coordinates to eclipitic frame, and save\n",
        "        merc = SkyCoord(m).transform_to(BarycentricMeanEcliptic)\n",
        "        sun = SkyCoord(s).transform_to(BarycentricMeanEcliptic)\n",
        "    \n",
        "    coords_ecl.append([float(merc.lat/u.deg), float(merc.lon/u.deg),float(sun.lat/u.deg), float(sun.lon/u.deg)])\n",
        "\n",
        "mercury_pos = pd.DataFrame(coords_ecl, columns=['ecl_lat_merc','ecl_lon_merc','ecl_lat_sun','ecl_lon_sun'])\n",
        "mercury_pos['date_utc'] = dates\n",
        "mercury_pos['lat_diff'] = np.abs(mercury_pos['ecl_lat_merc'] - mercury_pos['ecl_lat_sun'])\n",
        "mercury_pos"
      ],
      "execution_count": 14,
      "outputs": [
        {
          "output_type": "display_data",
          "data": {
            "application/vnd.jupyter.widget-view+json": {
              "model_id": "ea3e7382182740aba39375778cb24ec4",
              "version_minor": 0,
              "version_major": 2
            },
            "text/plain": [
              "HBox(children=(IntProgress(value=0, max=8785), HTML(value='')))"
            ]
          },
          "metadata": {
            "tags": []
          }
        },
        {
          "output_type": "stream",
          "text": [
            "\n"
          ],
          "name": "stdout"
        },
        {
          "output_type": "execute_result",
          "data": {
            "text/html": [
              "<div>\n",
              "<style scoped>\n",
              "    .dataframe tbody tr th:only-of-type {\n",
              "        vertical-align: middle;\n",
              "    }\n",
              "\n",
              "    .dataframe tbody tr th {\n",
              "        vertical-align: top;\n",
              "    }\n",
              "\n",
              "    .dataframe thead th {\n",
              "        text-align: right;\n",
              "    }\n",
              "</style>\n",
              "<table border=\"1\" class=\"dataframe\">\n",
              "  <thead>\n",
              "    <tr style=\"text-align: right;\">\n",
              "      <th></th>\n",
              "      <th>ecl_lat_merc</th>\n",
              "      <th>ecl_lon_merc</th>\n",
              "      <th>ecl_lat_sun</th>\n",
              "      <th>ecl_lon_sun</th>\n",
              "      <th>date_utc</th>\n",
              "      <th>lat_diff</th>\n",
              "    </tr>\n",
              "  </thead>\n",
              "  <tbody>\n",
              "    <tr>\n",
              "      <th>0</th>\n",
              "      <td>5.156182</td>\n",
              "      <td>180.225433</td>\n",
              "      <td>-1.077748</td>\n",
              "      <td>73.613324</td>\n",
              "      <td>2018-01-01 00:00:00+00:00</td>\n",
              "      <td>6.233931</td>\n",
              "    </tr>\n",
              "    <tr>\n",
              "      <th>1</th>\n",
              "      <td>5.142659</td>\n",
              "      <td>180.391694</td>\n",
              "      <td>-1.077673</td>\n",
              "      <td>73.615950</td>\n",
              "      <td>2018-01-01 01:00:00+00:00</td>\n",
              "      <td>6.220332</td>\n",
              "    </tr>\n",
              "    <tr>\n",
              "      <th>2</th>\n",
              "      <td>5.129108</td>\n",
              "      <td>180.557754</td>\n",
              "      <td>-1.077598</td>\n",
              "      <td>73.618575</td>\n",
              "      <td>2018-01-01 02:00:00+00:00</td>\n",
              "      <td>6.206706</td>\n",
              "    </tr>\n",
              "    <tr>\n",
              "      <th>3</th>\n",
              "      <td>5.115529</td>\n",
              "      <td>180.723612</td>\n",
              "      <td>-1.077523</td>\n",
              "      <td>73.621201</td>\n",
              "      <td>2018-01-01 03:00:00+00:00</td>\n",
              "      <td>6.193052</td>\n",
              "    </tr>\n",
              "    <tr>\n",
              "      <th>4</th>\n",
              "      <td>5.101923</td>\n",
              "      <td>180.889270</td>\n",
              "      <td>-1.077448</td>\n",
              "      <td>73.623827</td>\n",
              "      <td>2018-01-01 04:00:00+00:00</td>\n",
              "      <td>6.179371</td>\n",
              "    </tr>\n",
              "    <tr>\n",
              "      <th>...</th>\n",
              "      <td>...</td>\n",
              "      <td>...</td>\n",
              "      <td>...</td>\n",
              "      <td>...</td>\n",
              "      <td>...</td>\n",
              "      <td>...</td>\n",
              "    </tr>\n",
              "    <tr>\n",
              "      <th>8780</th>\n",
              "      <td>0.050919</td>\n",
              "      <td>227.125365</td>\n",
              "      <td>-0.438768</td>\n",
              "      <td>95.858299</td>\n",
              "      <td>2019-01-01 20:00:00+00:00</td>\n",
              "      <td>0.489687</td>\n",
              "    </tr>\n",
              "    <tr>\n",
              "      <th>8781</th>\n",
              "      <td>0.035798</td>\n",
              "      <td>227.248622</td>\n",
              "      <td>-0.438697</td>\n",
              "      <td>95.860735</td>\n",
              "      <td>2019-01-01 21:00:00+00:00</td>\n",
              "      <td>0.474496</td>\n",
              "    </tr>\n",
              "    <tr>\n",
              "      <th>8782</th>\n",
              "      <td>0.020685</td>\n",
              "      <td>227.371815</td>\n",
              "      <td>-0.438626</td>\n",
              "      <td>95.863171</td>\n",
              "      <td>2019-01-01 22:00:00+00:00</td>\n",
              "      <td>0.459311</td>\n",
              "    </tr>\n",
              "    <tr>\n",
              "      <th>8783</th>\n",
              "      <td>0.005579</td>\n",
              "      <td>227.494946</td>\n",
              "      <td>-0.438555</td>\n",
              "      <td>95.865606</td>\n",
              "      <td>2019-01-01 23:00:00+00:00</td>\n",
              "      <td>0.444134</td>\n",
              "    </tr>\n",
              "    <tr>\n",
              "      <th>8784</th>\n",
              "      <td>-0.009520</td>\n",
              "      <td>227.618013</td>\n",
              "      <td>-0.438484</td>\n",
              "      <td>95.868042</td>\n",
              "      <td>2019-01-02 00:00:00+00:00</td>\n",
              "      <td>0.428964</td>\n",
              "    </tr>\n",
              "  </tbody>\n",
              "</table>\n",
              "<p>8785 rows × 6 columns</p>\n",
              "</div>"
            ],
            "text/plain": [
              "      ecl_lat_merc  ecl_lon_merc  ...                  date_utc  lat_diff\n",
              "0         5.156182    180.225433  ... 2018-01-01 00:00:00+00:00  6.233931\n",
              "1         5.142659    180.391694  ... 2018-01-01 01:00:00+00:00  6.220332\n",
              "2         5.129108    180.557754  ... 2018-01-01 02:00:00+00:00  6.206706\n",
              "3         5.115529    180.723612  ... 2018-01-01 03:00:00+00:00  6.193052\n",
              "4         5.101923    180.889270  ... 2018-01-01 04:00:00+00:00  6.179371\n",
              "...            ...           ...  ...                       ...       ...\n",
              "8780      0.050919    227.125365  ... 2019-01-01 20:00:00+00:00  0.489687\n",
              "8781      0.035798    227.248622  ... 2019-01-01 21:00:00+00:00  0.474496\n",
              "8782      0.020685    227.371815  ... 2019-01-01 22:00:00+00:00  0.459311\n",
              "8783      0.005579    227.494946  ... 2019-01-01 23:00:00+00:00  0.444134\n",
              "8784     -0.009520    227.618013  ... 2019-01-02 00:00:00+00:00  0.428964\n",
              "\n",
              "[8785 rows x 6 columns]"
            ]
          },
          "metadata": {
            "tags": []
          },
          "execution_count": 14
        }
      ]
    },
    {
      "cell_type": "code",
      "metadata": {
        "id": "zAxlfxlUbwpG",
        "colab_type": "code",
        "colab": {
          "base_uri": "https://localhost:8080/",
          "height": 384
        },
        "outputId": "65bf1941-da60-4ff8-b6b4-8b530cd1416b"
      },
      "source": [
        "# Graph ecliptic latitude vs. time\n",
        "mercury_pos['Mercury Ecliptic Latitude'] = mercury_pos['ecl_lat_merc']\n",
        "mercury_pos['Days since 1/1/2018'] = mercury_pos.index/24\n",
        "mercury_pos.plot.scatter('Days since 1/1/2018','Mercury Ecliptic Latitude')\n"
      ],
      "execution_count": 15,
      "outputs": [
        {
          "output_type": "stream",
          "text": [
            "/usr/local/lib/python3.6/dist-packages/pandas/plotting/_matplotlib/core.py:420: FutureWarning: Converting timezone-aware DatetimeArray to timezone-naive ndarray with 'datetime64[ns]' dtype. In the future, this will return an ndarray with 'object' dtype where each element is a 'pandas.Timestamp' with the correct 'tz'.\n",
            "\tTo accept the future behavior, pass 'dtype=object'.\n",
            "\tTo keep the old behavior, pass 'dtype=\"datetime64[ns]\"'.\n",
            "  numeric_data[col] = np.asarray(numeric_data[col])\n"
          ],
          "name": "stderr"
        },
        {
          "output_type": "execute_result",
          "data": {
            "text/plain": [
              "<matplotlib.axes._subplots.AxesSubplot at 0x7f1916117ba8>"
            ]
          },
          "metadata": {
            "tags": []
          },
          "execution_count": 15
        },
        {
          "output_type": "display_data",
          "data": {
            "image/png": "[encoded data removed]",
            "text/plain": [
              "<Figure size 432x288 with 1 Axes>"
            ]
          },
          "metadata": {
            "tags": []
          }
        }
      ]
    },
    {
      "cell_type": "code",
      "metadata": {
        "id": "BkzuGL-NbwpJ",
        "colab_type": "code",
        "colab": {
          "base_uri": "https://localhost:8080/",
          "height": 102
        },
        "outputId": "5348f47c-b036-409b-d85f-58e7c4e59332"
      },
      "source": [
        "# Log each time mercury crosses from above to below the ecliptic plane (ecliptic latitude goes from > 0 to < 0),\n",
        "# in order to find mercury's orbital period\n",
        "\n",
        "prev_date = mercury_pos['date_utc'].values[0]\n",
        "date_gaps = []\n",
        "\n",
        "for i in range(mercury_pos.shape[0]-2):\n",
        "    # if mercury is going below the ecliptic plane, log the time\n",
        "    if (((mercury_pos['ecl_lat_merc'].values[i] - mercury_pos['ecl_lat_merc'].values[i+1] > 0 and \n",
        "        mercury_pos['ecl_lat_merc'].values[i+1] - mercury_pos['ecl_lat_merc'].values[i+2] < 0))):\n",
        "        \n",
        "        print(mercury_pos['date_utc'].values[i])\n",
        "        date_gaps.append((mercury_pos['date_utc'].values[i] - prev_date)/ np.timedelta64(1, 'D'))\n",
        "        prev_date = mercury_pos['date_utc'].values[i]\n",
        "\n",
        "# Observed Orbital Period (in days)\n",
        "np.mean(date_gaps[1:4])"
      ],
      "execution_count": 16,
      "outputs": [
        {
          "output_type": "stream",
          "text": [
            "2018-02-14T12:00:00.000000000\n",
            "2018-05-13T12:00:00.000000000\n",
            "2018-08-09T11:00:00.000000000\n",
            "2018-11-05T11:00:00.000000000\n"
          ],
          "name": "stdout"
        },
        {
          "output_type": "execute_result",
          "data": {
            "text/plain": [
              "87.9861111111111"
            ]
          },
          "metadata": {
            "tags": []
          },
          "execution_count": 16
        }
      ]
    },
    {
      "cell_type": "markdown",
      "metadata": {
        "id": "-e2M7cAHbwpM",
        "colab_type": "text"
      },
      "source": [
        "## Oberservation Site Distance"
      ]
    },
    {
      "cell_type": "code",
      "metadata": {
        "id": "9yUECg80bwpN",
        "colab_type": "code",
        "colab": {},
        "outputId": "740ef9e7-9f59-485c-a0d6-6deb66d78454"
      },
      "source": [
        "# Project the vector between the two sites on Earth onto a plane perpendicular to the vector from site A (Big Bear Solar Observatory) to the sun,\n",
        "# then measure the planar distance\n",
        "\n",
        "\n",
        "r = 6371e3 #radius of the earth\n",
        "wgs84 = nv.FrameE(a=r, f=0)\n",
        "pointA = wgs84.GeoPoint(latitude=34.2614, longitude=-116.9212, degrees=True) # Big Bear\n",
        "pointB = wgs84.GeoPoint(latitude=-30.1690, longitude=-70.8063, degrees=True) # cerro tololo\n",
        "p_AB_N = pointA.delta_to(pointB)\n",
        "dist, azi_a, b_azi = pointA.distance_and_azimuth(pointB)\n",
        "dist= dist/1000\n",
        "vec_a = pointA.to_ecef_vector().pvector.ravel()/np.linalg.norm(pointA.to_ecef_vector().pvector.ravel())\n",
        "vec_b = pointB.to_ecef_vector().pvector.ravel()/np.linalg.norm(pointB.to_ecef_vector().pvector.ravel())\n",
        "theta = dist/r\n",
        "dist_d = 2*r*np.sin(theta/2)\n",
        "alt_a = -np.pi/2+np.arcsin(np.sin(theta)*r/dist_d)\n",
        "alt_a/np.pi*180, azi_a*180/np.pi, (np.pi-theta)/2\n",
        "direction_vector = spherical_to_cartesian(azi_a,alt_a)/np.linalg.norm(spherical_to_cartesian(azi_a,alt_a))*dist_d\n",
        "a_plane = Plane(Point3D(0, 0, 0), normal_vector=spherical_to_cartesian(azi_a,alt_a))\n",
        "pointA.distance_and_azimuth"
      ],
      "execution_count": 0,
      "outputs": [
        {
          "output_type": "execute_result",
          "data": {
            "text/plain": [
              "<bound method GeoPoint.distance_and_azimuth of <nvector.objects.GeoPoint object at 0x117cb22d0>>"
            ]
          },
          "metadata": {
            "tags": []
          },
          "execution_count": 49
        }
      ]
    },
    {
      "cell_type": "code",
      "metadata": {
        "id": "18X7Dzx0bwpP",
        "colab_type": "code",
        "colab": {}
      },
      "source": [
        "def spherical_to_cartesian(azi,alt):\n",
        "    # Converts azimuth, altitude coordinates (also know as azimuth, elevation coordinates) to cartesian coordinates (x,y,z)\n",
        "    return np.cos(alt)*np.cos(azi),np.cos(alt)*np.sin(azi),np.sin(alt)\n",
        "\n",
        "def find_dist(date):\n",
        "    # Find the distance between the sites on the perpendicular plane given some date\n",
        "\n",
        "    observer = ephem.city('San Francisco')\n",
        "    observer.date = ephem.date(date)\n",
        "    a_plane = Plane(Point3D(0, 0, 0), normal_vector=spherical_to_cartesian(ephem.Sun(observer).az,ephem.Sun(observer).alt))\n",
        "\n",
        "    new_point = a_plane.projection(direction_vector)\n",
        "    return np.linalg.norm([float(new_point.x),float(new_point.y),float(new_point.z)])\n",
        "    \n",
        "\n",
        "coord_b = spherical_to_cartesian(azi_a,alt_a)"
      ],
      "execution_count": 0,
      "outputs": []
    },
    {
      "cell_type": "code",
      "metadata": {
        "id": "cuQrGGHtbwpS",
        "colab_type": "code",
        "colab": {}
      },
      "source": [
        "# List of Transit image file names, used to find each image's timestamp\n",
        "filenames = \"20160509111214Th.jpg,20160509111314Th.jpg,20160509111414Th.jpg,20160509111514Th.jpg,20160509111614Th.jpg,20160509111714Th.jpg,20160509111814Th.jpg,20160509111914Th.jpg,20160509112014Th.jpg,20160509112114Th.jpg,20160509112214Th.jpg,20160509112314Th.jpg,20160509112414Th.jpg,20160509112514Th.jpg,20160509112614Th.jpg,20160509112714Th.jpg,20160509112814Th.jpg,20160509112914Th.jpg,20160509113014Th.jpg,20160509113114Th.jpg,20160509113214Th.jpg,20160509113314Th.jpg,20160509113414Th.jpg,20160509113514Th.jpg,20160509113614Th.jpg,20160509113714Th.jpg,20160509113814Th.jpg,20160509113914Th.jpg,20160509114014Th.jpg,20160509114114Th.jpg,20160509114914Th.jpg,20160509115014Th.jpg,20160509115114Th.jpg,20160509115214Th.jpg,20160509115314Th.jpg,20160509115414Th.jpg,20160509115514Th.jpg,20160509115614Th.jpg,20160509115714Th.jpg,20160509115814Th.jpg,20160509115914Th.jpg,20160509120014Th.jpg,20160509120114Th.jpg,20160509120214Th.jpg,20160509120314Th.jpg,20160509120414Th.jpg,20160509120514Th.jpg,20160509120614Th.jpg,20160509120714Th.jpg,20160509120814Th.jpg,20160509120914Th.jpg,20160509121014Th.jpg,20160509121114Th.jpg,20160509121214Th.jpg,20160509121314Th.jpg,20160509121414Th.jpg,20160509121514Th.jpg,20160509121614Th.jpg,20160509121714Th.jpg,20160509121814Th.jpg,20160509121914Th.jpg,20160509122014Th.jpg,20160509122114Th.jpg,20160509122214Th.jpg,20160509122314Th.jpg,20160509122414Th.jpg,20160509122514Th.jpg,20160509122614Th.jpg,20160509122714Th.jpg,20160509122814Th.jpg,20160509122914Th.jpg,20160509123014Th.jpg,20160509123114Th.jpg,20160509123214Th.jpg,20160509123314Th.jpg,20160509123414Th.jpg,20160509123514Th.jpg,20160509123614Th.jpg,20160509123714Th.jpg,20160509123814Th.jpg,20160509123914Th.jpg,20160509124014Th.jpg,20160509124114Th.jpg,20160509124214Th.jpg,20160509124314Th.jpg,20160509124414Th.jpg,20160509124514Th.jpg,20160509124614Th.jpg,20160509124714Th.jpg,20160509124814Th.jpg,20160509124914Th.jpg,20160509125014Th.jpg,20160509125114Th.jpg,20160509125214Th.jpg,20160509125314Th.jpg,20160509125414Th.jpg,20160509125514Th.jpg,20160509125614Th.jpg,20160509125714Th.jpg,20160509125734Ch.jpg,20160509125814Th.jpg,20160509125834Ch.jpg,20160509125914Th.jpg,20160509125934Ch.jpg,20160509130014Th.jpg,20160509130034Ch.jpg,20160509130114Th.jpg,20160509130134Ch.jpg,20160509130214Th.jpg,20160509130234Ch.jpg,20160509130314Th.jpg,20160509130334Ch.jpg,20160509130414Th.jpg,20160509130434Ch.jpg,20160509130514Th.jpg,20160509130534Ch.jpg,20160509130614Th.jpg,20160509130634Ch.jpg,20160509130714Th.jpg,20160509130734Ch.jpg,20160509130814Th.jpg,20160509130834Ch.jpg,20160509130914Th.jpg,20160509130934Ch.jpg,20160509131014Th.jpg,20160509131114Th.jpg,20160509131214Th.jpg,20160509131314Th.jpg,20160509131414Th.jpg,20160509131514Th.jpg,20160509131614Th.jpg,20160509131634Ch.jpg,20160509131714Th.jpg,20160509131734Ch.jpg,20160509131814Th.jpg,20160509131834Ch.jpg,20160509131914Th.jpg,20160509131934Ch.jpg,20160509132014Th.jpg,20160509132034Ch.jpg,20160509132114Th.jpg,20160509132134Ch.jpg,20160509132214Th.jpg,20160509132234Ch.jpg,20160509132314Th.jpg,20160509132334Ch.jpg,20160509132414Th.jpg,20160509132434Ch.jpg,20160509132514Th.jpg,20160509132534Ch.jpg,20160509132614Th.jpg,20160509132634Ch.jpg,20160509132734Ch.jpg,20160509132834Ch.jpg,20160509132914Th.jpg,20160509132934Ch.jpg,20160509133014Th.jpg,20160509133034Ch.jpg,20160509133114Th.jpg,20160509133134Ch.jpg,20160509133214Th.jpg,20160509133234Ch.jpg,20160509133314Th.jpg,20160509133334Ch.jpg,20160509133414Th.jpg,20160509133434Ch.jpg,20160509133514Th.jpg,20160509133534Ch.jpg,20160509133614Th.jpg,20160509133634Ch.jpg,20160509133714Th.jpg,20160509133734Ch.jpg,20160509133814Th.jpg,20160509133834Ch.jpg,20160509133914Th.jpg,20160509133934Ch.jpg,20160509134014Th.jpg,20160509134034Ch.jpg,20160509134114Th.jpg,20160509134134Ch.jpg,20160509134214Th.jpg,20160509134234Ch.jpg,20160509134314Th.jpg,20160509134334Ch.jpg,20160509134414Th.jpg,20160509134434Ch.jpg,20160509134514Th.jpg,20160509134534Ch.jpg,20160509134614Th.jpg,20160509134634Ch.jpg,20160509134734Ch.jpg,20160509134814Th.jpg,20160509134834Ch.jpg,20160509134914Th.jpg,20160509134934Ch.jpg,20160509134954Bh.jpg,20160509135014Th.jpg,20160509135034Ch.jpg,20160509135054Bh.jpg,20160509135114Th.jpg,20160509135134Ch.jpg,20160509135154Bh.jpg,20160509135214Th.jpg,20160509135234Ch.jpg,20160509135254Bh.jpg,20160509135314Th.jpg,20160509135334Ch.jpg,20160509135354Bh.jpg,20160509135414Th.jpg,20160509135434Ch.jpg,20160509135454Bh.jpg,20160509135514Th.jpg,20160509135534Ch.jpg,20160509135554Bh.jpg,20160509135614Th.jpg,20160509135634Ch.jpg,20160509135654Bh.jpg,20160509135714Th.jpg,20160509135734Ch.jpg,20160509135754Bh.jpg,20160509135814Th.jpg,20160509135834Ch.jpg,20160509135854Bh.jpg,20160509135914Th.jpg,20160509135934Ch.jpg,20160509135954Bh.jpg,20160509140014Th.jpg,20160509140034Ch.jpg,20160509140054Bh.jpg,20160509140114Th.jpg,20160509140134Ch.jpg,20160509140154Bh.jpg,20160509140214Th.jpg,20160509140234Ch.jpg,20160509140254Bh.jpg,20160509140314Th.jpg,20160509140334Ch.jpg,20160509140354Bh.jpg,20160509140414Th.jpg,20160509140434Ch.jpg,20160509140454Bh.jpg,20160509140514Th.jpg,20160509140534Ch.jpg,20160509140554Bh.jpg,20160509140614Th.jpg,20160509140634Ch.jpg,20160509140654Bh.jpg,20160509140714Th.jpg,20160509140734Ch.jpg,20160509140754Bh.jpg,20160509140814Th.jpg,20160509140834Ch.jpg,20160509140854Bh.jpg,20160509140914Th.jpg,20160509140934Ch.jpg,20160509140954Bh.jpg,20160509141014Th.jpg,20160509141054Bh.jpg,20160509141114Th.jpg,20160509141154Bh.jpg,20160509141214Th.jpg,20160509141254Bh.jpg,20160509141314Th.jpg,20160509141354Bh.jpg,20160509141414Th.jpg,20160509141454Bh.jpg,20160509141514Th.jpg,20160509141554Bh.jpg,20160509141614Th.jpg,20160509141654Bh.jpg,20160509141714Th.jpg,20160509141734Ch.jpg,20160509141754Bh.jpg,20160509141814Th.jpg,20160509141834Ch.jpg,20160509141854Bh.jpg,20160509141914Th.jpg,20160509141934Ch.jpg,20160509141954Bh.jpg,20160509142014Th.jpg,20160509142034Ch.jpg,20160509142054Bh.jpg,20160509142114Th.jpg,20160509142134Ch.jpg,20160509142154Bh.jpg,20160509142214Th.jpg,20160509142234Ch.jpg,20160509142254Bh.jpg,20160509142314Th.jpg,20160509142334Ch.jpg,20160509142354Bh.jpg,20160509142414Th.jpg,20160509142434Ch.jpg,20160509142454Bh.jpg,20160509142514Th.jpg,20160509142534Ch.jpg,20160509142614Th.jpg,20160509142634Ch.jpg,20160509142654Bh.jpg,20160509142714Th.jpg,20160509142734Ch.jpg,20160509142754Bh.jpg,20160509142814Th.jpg,20160509142834Ch.jpg,20160509142854Bh.jpg,20160509142914Th.jpg,20160509142934Ch.jpg,20160509142954Bh.jpg,20160509143014Th.jpg,20160509143054Bh.jpg,20160509143114Th.jpg,20160509143154Bh.jpg,20160509143214Th.jpg,20160509143254Bh.jpg,20160509143314Th.jpg,20160509143354Bh.jpg,20160509143414Th.jpg,20160509143454Bh.jpg,20160509143514Th.jpg,20160509143554Bh.jpg,20160509143614Th.jpg,20160509143714Th.jpg,20160509143814Th.jpg,20160509143914Th.jpg,20160509144014Th.jpg,20160509144114Th.jpg,20160509144214Th.jpg,20160509144314Th.jpg,20160509144354Bh.jpg,20160509144414Th.jpg,20160509144454Bh.jpg,20160509144514Th.jpg,20160509144554Bh.jpg,20160509144614Th.jpg,20160509144654Bh.jpg,20160509144714Th.jpg,20160509144754Bh.jpg,20160509144814Th.jpg,20160509144854Bh.jpg,20160509144914Th.jpg,20160509144954Bh.jpg,20160509145014Th.jpg,20160509145054Bh.jpg,20160509145114Th.jpg,20160509145154Bh.jpg,20160509145214Th.jpg,20160509145254Bh.jpg,20160509145314Th.jpg,20160509145354Bh.jpg,20160509145414Th.jpg,20160509145454Bh.jpg,20160509145514Th.jpg,20160509145554Bh.jpg,20160509145614Th.jpg,20160509145654Bh.jpg,20160509145714Th.jpg,20160509145754Bh.jpg,20160509145814Th.jpg,20160509145854Bh.jpg,20160509145914Th.jpg,20160509145954Bh.jpg,20160509150014Th.jpg,20160509150054Bh.jpg,20160509150114Th.jpg,20160509150154Bh.jpg,20160509150214Th.jpg,20160509150254Bh.jpg,20160509150314Th.jpg,20160509150354Bh.jpg,20160509150414Th.jpg,20160509150454Bh.jpg,20160509150514Th.jpg,20160509150554Bh.jpg,20160509150614Th.jpg,20160509150654Bh.jpg,20160509150714Th.jpg,20160509150754Bh.jpg,20160509150814Th.jpg,20160509150854Bh.jpg,20160509150914Th.jpg,20160509150954Bh.jpg,20160509151014Th.jpg,20160509151054Bh.jpg,20160509151114Th.jpg,20160509151154Bh.jpg,20160509151214Th.jpg,20160509151254Bh.jpg,20160509151314Th.jpg,20160509151354Bh.jpg,20160509151414Th.jpg,20160509151454Bh.jpg,20160509151514Th.jpg,20160509151554Bh.jpg,20160509151614Th.jpg,20160509151654Bh.jpg,20160509151714Th.jpg,20160509151754Bh.jpg,20160509151814Th.jpg,20160509151854Bh.jpg,20160509151914Th.jpg,20160509151954Bh.jpg,20160509152014Th.jpg,20160509152054Bh.jpg,20160509152114Th.jpg,20160509152154Bh.jpg,20160509152214Th.jpg,20160509152254Bh.jpg,20160509152314Th.jpg,20160509152354Bh.jpg,20160509152414Th.jpg,20160509152454Bh.jpg,20160509152514Th.jpg,20160509152534Ch.jpg,20160509152554Bh.jpg,20160509152614Th.jpg,20160509152634Ch.jpg,20160509152654Bh.jpg,20160509152714Th.jpg,20160509152734Ch.jpg,20160509152754Bh.jpg,20160509152814Th.jpg,20160509152854Bh.jpg,20160509152914Th.jpg,20160509152954Bh.jpg,20160509153014Th.jpg,20160509153054Bh.jpg,20160509153114Th.jpg,20160509153154Bh.jpg,20160509153214Th.jpg,20160509153254Bh.jpg,20160509153314Th.jpg,20160509153334Ch.jpg,20160509153354Bh.jpg,20160509153414Th.jpg,20160509153434Ch.jpg,20160509153454Bh.jpg,20160509153514Th.jpg,20160509153554Bh.jpg,20160509153614Th.jpg,20160509153654Bh.jpg,20160509153714Th.jpg,20160509153754Bh.jpg,20160509153814Th.jpg,20160509153854Bh.jpg,20160509153914Th.jpg,20160509153954Bh.jpg,20160509154014Th.jpg,20160509154034Ch.jpg,20160509154054Bh.jpg,20160509154114Th.jpg,20160509154134Ch.jpg,20160509154154Bh.jpg,20160509154214Th.jpg,20160509154234Ch.jpg,20160509154254Bh.jpg,20160509154314Th.jpg,20160509154334Ch.jpg,20160509154354Bh.jpg,20160509154414Th.jpg,20160509154434Ch.jpg,20160509154454Bh.jpg,20160509154514Th.jpg,20160509154554Bh.jpg,20160509154614Th.jpg,20160509154654Bh.jpg,20160509154714Th.jpg,20160509154754Bh.jpg,20160509154814Th.jpg,20160509154854Bh.jpg,20160509154914Th.jpg,20160509154954Bh.jpg,20160509155014Th.jpg,20160509155054Bh.jpg,20160509155114Th.jpg,20160509155134Ch.jpg,20160509155154Bh.jpg,20160509155214Th.jpg,20160509155234Ch.jpg,20160509155254Bh.jpg,20160509155334Ch.jpg,20160509155354Bh.jpg,20160509155434Ch.jpg,20160509155454Bh.jpg,20160509155534Ch.jpg,20160509155554Bh.jpg,20160509155634Ch.jpg,20160509155654Bh.jpg,20160509155734Ch.jpg,20160509155754Bh.jpg,20160509155834Ch.jpg,20160509155854Bh.jpg,20160509155934Ch.jpg,20160509155954Bh.jpg,20160509160034Ch.jpg,20160509160054Bh.jpg,20160509160134Ch.jpg,20160509160154Bh.jpg,20160509160214Th.jpg,20160509160234Ch.jpg,20160509160254Bh.jpg,20160509160314Th.jpg,20160509160334Ch.jpg,20160509160354Bh.jpg,20160509160434Ch.jpg,20160509160454Bh.jpg,20160509160534Ch.jpg,20160509160554Bh.jpg,20160509160634Ch.jpg,20160509160654Bh.jpg,20160509160714Th.jpg,20160509160754Bh.jpg,20160509160854Bh.jpg,20160509160954Bh.jpg,20160509161054Bh.jpg,20160509161154Bh.jpg,20160509161254Bh.jpg,20160509161354Bh.jpg,20160509161454Bh.jpg,20160509161554Bh.jpg,20160509161654Bh.jpg,20160509161754Bh.jpg,20160509161854Bh.jpg,20160509161954Bh.jpg,20160509162054Bh.jpg,20160509162134Ch.jpg,20160509162234Ch.jpg,20160509162434Ch.jpg,20160509162534Ch.jpg,20160509162614Th.jpg,20160509162634Ch.jpg,20160509162734Ch.jpg,20160509162834Ch.jpg,20160509162854Bh.jpg,20160509162934Ch.jpg,20160509162954Bh.jpg,20160509163034Ch.jpg,20160509163054Bh.jpg,20160509163134Ch.jpg,20160509163154Bh.jpg,20160509163234Ch.jpg,20160509163254Bh.jpg,20160509163354Bh.jpg,20160509163454Bh.jpg,20160509163554Bh.jpg,20160509163654Bh.jpg,20160509163754Bh.jpg,20160509163814Th.jpg,20160509163854Bh.jpg,20160509163914Mh.jpg,20160509163954Bh.jpg,20160509164014Mh.jpg,20160509164054Bh.jpg,20160509164114Mh.jpg,20160509164154Bh.jpg,20160509164214Mh.jpg,20160509164214Th.jpg,20160509164254Bh.jpg,20160509164314Mh.jpg,20160509164314Th.jpg,20160509164354Bh.jpg,20160509164414Mh.jpg,20160509164414Th.jpg,20160509164454Bh.jpg,20160509164514Mh.jpg,20160509164554Bh.jpg,20160509164614Mh.jpg,20160509164654Bh.jpg,20160509164714Mh.jpg,20160509164714Th.jpg,20160509164754Bh.jpg,20160509164814Mh.jpg,20160509164814Th.jpg,20160509164834Ch.jpg,20160509164854Bh.jpg,20160509164914Mh.jpg,20160509164954Bh.jpg,20160509165014Mh.jpg,20160509165014Th.jpg,20160509165054Bh.jpg,20160509165114Mh.jpg,20160509165134Ch.jpg,20160509165154Bh.jpg,20160509165214Mh.jpg,20160509165254Bh.jpg,20160509165314Mh.jpg,20160509165354Bh.jpg,20160509165414Mh.jpg,20160509165454Bh.jpg,20160509165514Mh.jpg,20160509165554Bh.jpg,20160509165614Mh.jpg,20160509165614Th.jpg,20160509165654Bh.jpg,20160509165714Mh.jpg,20160509165734Ch.jpg,20160509165754Bh.jpg,20160509165814Mh.jpg,20160509165834Ch.jpg,20160509165854Bh.jpg,20160509165914Mh.jpg,20160509165914Th.jpg,20160509165934Ch.jpg,20160509165954Bh.jpg,20160509170014Mh.jpg,20160509170034Ch.jpg,20160509170054Bh.jpg,20160509170114Mh.jpg,20160509170134Ch.jpg,20160509170154Bh.jpg,20160509170214Mh.jpg,20160509170234Ch.jpg,20160509170254Bh.jpg,20160509170314Mh.jpg,20160509170314Th.jpg,20160509170334Ch.jpg,20160509170354Bh.jpg,20160509170414Mh.jpg,20160509170434Ch.jpg,20160509170454Bh.jpg,20160509170514Mh.jpg,20160509170534Ch.jpg,20160509170554Bh.jpg,20160509170614Mh.jpg,20160509170634Ch.jpg,20160509170654Bh.jpg,20160509170714Mh.jpg,20160509170734Ch.jpg,20160509170754Bh.jpg,20160509170814Mh.jpg,20160509170854Bh.jpg,20160509170914Mh.jpg,20160509170954Bh.jpg,20160509171014Mh.jpg,20160509171054Bh.jpg,20160509171114Mh.jpg,20160509171154Bh.jpg,20160509171214Mh.jpg,20160509171254Bh.jpg,20160509171314Mh.jpg,20160509171354Bh.jpg,20160509171414Mh.jpg,20160509171414Th.jpg,20160509171454Bh.jpg,20160509171514Mh.jpg,20160509171514Th.jpg,20160509171554Bh.jpg,20160509171614Mh.jpg,20160509171654Bh.jpg,20160509171714Mh.jpg,20160509171754Bh.jpg,20160509171814Mh.jpg,20160509171854Bh.jpg,20160509171914Mh.jpg,20160509171914Th.jpg,20160509171954Bh.jpg,20160509172014Mh.jpg,20160509172014Th.jpg,20160509172054Bh.jpg,20160509172114Mh.jpg,20160509172154Bh.jpg,20160509172214Mh.jpg,20160509172254Bh.jpg,20160509172314Mh.jpg,20160509172314Th.jpg,20160509172354Bh.jpg,20160509172414Mh.jpg,20160509172414Th.jpg,20160509172454Bh.jpg,20160509172514Mh.jpg,20160509172554Bh.jpg,20160509172614Mh.jpg,20160509172614Th.jpg,20160509172654Bh.jpg,20160509172714Mh.jpg,20160509172754Bh.jpg,20160509172814Mh.jpg,20160509172854Bh.jpg,20160509172914Mh.jpg,20160509172914Th.jpg,20160509172934Ch.jpg,20160509172954Bh.jpg,20160509173014Mh.jpg,20160509173014Th.jpg,20160509173054Bh.jpg,20160509173114Mh.jpg,20160509173114Th.jpg,20160509173154Bh.jpg,20160509173214Mh.jpg,20160509173254Bh.jpg,20160509173314Mh.jpg,20160509173354Bh.jpg,20160509173414Mh.jpg,20160509173434Ch.jpg,20160509173454Bh.jpg,20160509173514Mh.jpg,20160509173514Th.jpg,20160509173534Ch.jpg,20160509173554Bh.jpg,20160509173614Mh.jpg,20160509173634Ch.jpg,20160509173654Bh.jpg,20160509173714Mh.jpg,20160509173734Ch.jpg,20160509173754Bh.jpg,20160509173814Mh.jpg,20160509173814Th.jpg,20160509173834Ch.jpg,20160509173854Bh.jpg,20160509173914Mh.jpg,20160509173914Th.jpg,20160509173954Bh.jpg,20160509174014Mh.jpg,20160509174014Th.jpg,20160509174054Bh.jpg,20160509174114Mh.jpg,20160509174114Th.jpg,20160509174154Bh.jpg,20160509174214Mh.jpg,20160509174214Th.jpg,20160509174254Bh.jpg,20160509174314Mh.jpg,20160509174314Th.jpg,20160509174354Bh.jpg,20160509174414Mh.jpg,20160509174414Th.jpg,20160509174454Bh.jpg,20160509174514Mh.jpg,20160509174514Th.jpg,20160509174554Bh.jpg,20160509174614Mh.jpg,20160509174614Th.jpg,20160509174634Ch.jpg,20160509174654Bh.jpg,20160509174714Mh.jpg,20160509174714Th.jpg,20160509174734Ch.jpg,20160509174754Bh.jpg,20160509174814Mh.jpg,20160509174814Th.jpg,20160509174834Ch.jpg,20160509174854Bh.jpg,20160509174914Mh.jpg,20160509174914Th.jpg,20160509174954Bh.jpg,20160509175014Mh.jpg,20160509175014Th.jpg,20160509175054Bh.jpg,20160509175114Mh.jpg,20160509175114Th.jpg,20160509175134Ch.jpg,20160509175154Bh.jpg,20160509175214Mh.jpg,20160509175214Th.jpg,20160509175254Bh.jpg,20160509175314Mh.jpg,20160509175314Th.jpg,20160509175354Bh.jpg,20160509175414Mh.jpg,20160509175454Bh.jpg,20160509175514Mh.jpg,20160509175514Th.jpg,20160509175534Ch.jpg,20160509175554Bh.jpg,20160509175614Mh.jpg,20160509175614Th.jpg,20160509175654Bh.jpg,20160509175714Mh.jpg,20160509175714Th.jpg,20160509175754Bh.jpg,20160509175814Mh.jpg,20160509175814Th.jpg,20160509175854Bh.jpg,20160509175914Mh.jpg,20160509175914Th.jpg,20160509175954Bh.jpg,20160509180014Mh.jpg,20160509180014Th.jpg,20160509180054Bh.jpg,20160509180114Mh.jpg,20160509180114Th.jpg,20160509180154Bh.jpg,20160509180214Mh.jpg,20160509180214Th.jpg,20160509180254Bh.jpg,20160509180314Mh.jpg,20160509180314Th.jpg,20160509180354Bh.jpg,20160509180414Mh.jpg,20160509180414Th.jpg,20160509180434Ch.jpg,20160509180454Bh.jpg,20160509180514Mh.jpg,20160509180514Th.jpg,20160509180554Bh.jpg,20160509180614Th.jpg,20160509180654Bh.jpg,20160509180714Th.jpg,20160509180754Bh.jpg,20160509180814Th.jpg,20160509180854Bh.jpg,20160509180914Th.jpg,20160509180954Bh.jpg,20160509181014Th.jpg,20160509181054Bh.jpg,20160509181114Th.jpg,20160509181154Bh.jpg,20160509181214Th.jpg,20160509181254Bh.jpg,20160509181314Mh.jpg,20160509181314Th.jpg,20160509181354Bh.jpg,20160509181414Mh.jpg,20160509181414Th.jpg,20160509181454Bh.jpg,20160509181514Mh.jpg,20160509181514Th.jpg,20160509181534Ch.jpg,20160509181554Bh.jpg,20160509181614Mh.jpg,20160509181614Th.jpg,20160509181634Ch.jpg,20160509181654Bh.jpg,20160509181714Mh.jpg,20160509181714Th.jpg,20160509181734Ch.jpg,20160509181754Bh.jpg,20160509181814Mh.jpg,20160509181814Th.jpg,20160509181834Ch.jpg,20160509181854Bh.jpg,20160509181914Mh.jpg,20160509181914Th.jpg,20160509181934Ch.jpg,20160509181954Bh.jpg,20160509182014Mh.jpg,20160509182014Th.jpg,20160509182034Ch.jpg,20160509182054Bh.jpg,20160509182114Mh.jpg,20160509182114Th.jpg,20160509182134Ch.jpg,20160509182154Bh.jpg,20160509182214Mh.jpg,20160509182214Th.jpg,20160509182234Ch.jpg,20160509182254Bh.jpg,20160509182314Mh.jpg,20160509182314Th.jpg,20160509182334Ch.jpg,20160509182354Bh.jpg,20160509182414Mh.jpg,20160509182414Th.jpg,20160509182434Ch.jpg,20160509182454Bh.jpg,20160509182514Mh.jpg,20160509182514Th.jpg,20160509182534Ch.jpg,20160509182554Bh.jpg,20160509182614Mh.jpg,20160509182614Th.jpg,20160509182634Ch.jpg,20160509182654Bh.jpg,20160509182714Mh.jpg,20160509182714Th.jpg,20160509182734Ch.jpg,20160509182754Bh.jpg,20160509182814Mh.jpg,20160509182814Th.jpg,20160509182834Ch.jpg,20160509182854Bh.jpg,20160509182914Mh.jpg,20160509182914Th.jpg,20160509182934Ch.jpg,20160509182954Bh.jpg,20160509183014Mh.jpg,20160509183034Ch.jpg,20160509183054Bh.jpg,20160509183114Mh.jpg,20160509183114Th.jpg,20160509183134Ch.jpg,20160509183154Bh.jpg,20160509183214Mh.jpg,20160509183214Th.jpg,20160509183234Ch.jpg,20160509183254Bh.jpg,20160509183314Mh.jpg,20160509183314Th.jpg,20160509183334Ch.jpg,20160509183354Bh.jpg,20160509183414Mh.jpg,20160509183414Th.jpg,20160509183434Ch.jpg,20160509183454Bh.jpg,20160509183514Mh.jpg,20160509183514Th.jpg,20160509183534Ch.jpg,20160509183554Bh.jpg,20160509183614Mh.jpg,20160509183614Th.jpg,20160509183634Ch.jpg,20160509183654Bh.jpg,20160509183714Mh.jpg,20160509183714Th.jpg,20160509183734Ch.jpg,20160509183754Bh.jpg,20160509183814Mh.jpg,20160509183854Bh.jpg,20160509183914Mh.jpg,20160509183954Bh.jpg,20160509184014Mh.jpg,20160509184034Ch.jpg,20160509184054Bh.jpg,20160509184114Mh.jpg,20160509184134Ch.jpg,20160509184154Bh.jpg,20160509184214Mh.jpg,20160509184234Ch.jpg,20160509184254Bh.jpg,20160509184314Mh.jpg,20160509185714Mh.jpg\"\n",
        "\n",
        "# Parse through filenames to strip timestamp from each file that was taken at Observatory B (Cerro Tololo)\n",
        "times = []\n",
        "fileList = []\n",
        "for name in filenames.split(','):\n",
        "    if 'Ch' in name:\n",
        "        fileList.append(name)\n",
        "dists = []\n",
        "\n",
        "for time in fileList:\n",
        "    # Strip timestamp\n",
        "    times.append(datetime.strptime(time[:len(time)-6], '%Y%m%d%H%M%S'))\n",
        "    # Find distance\n",
        "    dists.append(find_dist(times[-1]))"
      ],
      "execution_count": 0,
      "outputs": []
    },
    {
      "cell_type": "code",
      "metadata": {
        "id": "j2OeLt2kbwpX",
        "colab_type": "code",
        "colab": {}
      },
      "source": [
        "# Export distance data\n",
        "dist_data = pd.DataFrame(data={'filename':fileList,'distance':dists})\n",
        "dist_data.to_csv('distance_data.csv', index=False)"
      ],
      "execution_count": 0,
      "outputs": []
    },
    {
      "cell_type": "code",
      "metadata": {
        "id": "3gU-yvnfbwpb",
        "colab_type": "code",
        "colab": {},
        "outputId": "6e9abc70-0a30-4db1-fccf-556771eaa6b0"
      },
      "source": [
        "dist_data"
      ],
      "execution_count": 0,
      "outputs": [
        {
          "output_type": "execute_result",
          "data": {
            "text/html": [
              "<div>\n",
              "<style scoped>\n",
              "    .dataframe tbody tr th:only-of-type {\n",
              "        vertical-align: middle;\n",
              "    }\n",
              "\n",
              "    .dataframe tbody tr th {\n",
              "        vertical-align: top;\n",
              "    }\n",
              "\n",
              "    .dataframe thead th {\n",
              "        text-align: right;\n",
              "    }\n",
              "</style>\n",
              "<table border=\"1\" class=\"dataframe\">\n",
              "  <thead>\n",
              "    <tr style=\"text-align: right;\">\n",
              "      <th></th>\n",
              "      <th>filename</th>\n",
              "      <th>distance</th>\n",
              "    </tr>\n",
              "  </thead>\n",
              "  <tbody>\n",
              "    <tr>\n",
              "      <td>0</td>\n",
              "      <td>20160509125734Ch.jpg</td>\n",
              "      <td>8335.086316</td>\n",
              "    </tr>\n",
              "    <tr>\n",
              "      <td>1</td>\n",
              "      <td>20160509125834Ch.jpg</td>\n",
              "      <td>8328.800677</td>\n",
              "    </tr>\n",
              "    <tr>\n",
              "      <td>2</td>\n",
              "      <td>20160509125934Ch.jpg</td>\n",
              "      <td>8322.466650</td>\n",
              "    </tr>\n",
              "    <tr>\n",
              "      <td>3</td>\n",
              "      <td>20160509130034Ch.jpg</td>\n",
              "      <td>8316.084102</td>\n",
              "    </tr>\n",
              "    <tr>\n",
              "      <td>4</td>\n",
              "      <td>20160509130134Ch.jpg</td>\n",
              "      <td>8309.654334</td>\n",
              "    </tr>\n",
              "    <tr>\n",
              "      <td>...</td>\n",
              "      <td>...</td>\n",
              "      <td>...</td>\n",
              "    </tr>\n",
              "    <tr>\n",
              "      <td>163</td>\n",
              "      <td>20160509183634Ch.jpg</td>\n",
              "      <td>7664.906052</td>\n",
              "    </tr>\n",
              "    <tr>\n",
              "      <td>164</td>\n",
              "      <td>20160509183734Ch.jpg</td>\n",
              "      <td>7672.611297</td>\n",
              "    </tr>\n",
              "    <tr>\n",
              "      <td>165</td>\n",
              "      <td>20160509184034Ch.jpg</td>\n",
              "      <td>7695.835460</td>\n",
              "    </tr>\n",
              "    <tr>\n",
              "      <td>166</td>\n",
              "      <td>20160509184134Ch.jpg</td>\n",
              "      <td>7703.610461</td>\n",
              "    </tr>\n",
              "    <tr>\n",
              "      <td>167</td>\n",
              "      <td>20160509184234Ch.jpg</td>\n",
              "      <td>7711.399749</td>\n",
              "    </tr>\n",
              "  </tbody>\n",
              "</table>\n",
              "<p>168 rows × 2 columns</p>\n",
              "</div>"
            ],
            "text/plain": [
              "                 filename     distance\n",
              "0    20160509125734Ch.jpg  8335.086316\n",
              "1    20160509125834Ch.jpg  8328.800677\n",
              "2    20160509125934Ch.jpg  8322.466650\n",
              "3    20160509130034Ch.jpg  8316.084102\n",
              "4    20160509130134Ch.jpg  8309.654334\n",
              "..                    ...          ...\n",
              "163  20160509183634Ch.jpg  7664.906052\n",
              "164  20160509183734Ch.jpg  7672.611297\n",
              "165  20160509184034Ch.jpg  7695.835460\n",
              "166  20160509184134Ch.jpg  7703.610461\n",
              "167  20160509184234Ch.jpg  7711.399749\n",
              "\n",
              "[168 rows x 2 columns]"
            ]
          },
          "metadata": {
            "tags": []
          },
          "execution_count": 60
        }
      ]
    }
  ]
}